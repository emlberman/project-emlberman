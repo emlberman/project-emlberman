{
 "cells": [
  {
   "cell_type": "code",
   "execution_count": 30,
   "id": "337b6351-3f93-40b0-877d-85d1869b0f18",
   "metadata": {},
   "outputs": [
    {
     "name": "stdout",
     "output_type": "stream",
     "text": [
      "    survival  still-alive age-at-heart-attack  pericardial-effusion  \\\n",
      "0         11            0                  71                     0   \n",
      "1         19            0                  72                     0   \n",
      "2         16            0                  55                     0   \n",
      "3         57            0                  60                     0   \n",
      "4         19            1                  57                     0   \n",
      "..       ...          ...                 ...                   ...   \n",
      "126      7.5            1                  64                     0   \n",
      "127       41            0                  64                     0   \n",
      "128       36            0                  69                     0   \n",
      "129       22            0                  57                     0   \n",
      "130       20            0                  62                     0   \n",
      "\n",
      "    fractional-shortening    epss   lvdd wall-motion-score wall-motion-index  \\\n",
      "0                   0.260       9  4.600                14                 1   \n",
      "1                   0.380       6  4.100                14             1.700   \n",
      "2                   0.260       4  3.420                14                 1   \n",
      "3                   0.253  12.062  4.603                16             1.450   \n",
      "4                   0.160      22  5.750                18             2.250   \n",
      "..                    ...     ...    ...               ...               ...   \n",
      "126                  0.24    12.9   4.72                12                 1   \n",
      "127                  0.28    5.40   5.47                11              1.10   \n",
      "128                  0.20    7.00   5.05              14.5              1.21   \n",
      "129                  0.14    16.1   4.36                15              1.36   \n",
      "130                  0.15       0   4.51              15.5             1.409   \n",
      "\n",
      "      mult  name group alive-at-1  \n",
      "0        1  name     1          0  \n",
      "1    0.588  name     1          0  \n",
      "2        1  name     1          0  \n",
      "3    0.788  name     1          0  \n",
      "4    0.571  name     1          0  \n",
      "..     ...   ...   ...        ...  \n",
      "126  0.857  name     ?          ?  \n",
      "127  0.714  name     ?          ?  \n",
      "128  0.857  name     ?          ?  \n",
      "129  0.786  name     ?          ?  \n",
      "130  0.786  name     ?          ?  \n",
      "\n",
      "[131 rows x 13 columns]\n"
     ]
    }
   ],
   "source": [
    "import pandas as pd\n",
    "\n",
    "features = ['survival', 'still-alive', 'age-at-heart-attack', 'pericardial-effusion', 'fractional-shortening', 'epss', 'lvdd', \n",
    "            'wall-motion-score', 'wall-motion-index', 'mult', 'name', 'group', 'alive-at-1']\n",
    "echo_df = pd.read_csv('echocardiogram/echocardiogram.data', on_bad_lines='skip', header=None) #line 50 has extra comma??\n",
    "echo_df.columns = features\n",
    "print(echo_df)\n"
   ]
  },
  {
   "cell_type": "code",
   "execution_count": 31,
   "id": "e3bf5693-98ad-4693-b30b-bd00f267ec59",
   "metadata": {},
   "outputs": [
    {
     "name": "stdout",
     "output_type": "stream",
     "text": [
      "(131, 13)\n"
     ]
    }
   ],
   "source": [
    "# EDA\n",
    "print(echo_df.shape)\n",
    "\n",
    "print("
   ]
  },
  {
   "cell_type": "code",
   "execution_count": null,
   "id": "0f912ae0-091c-49ca-af9f-a974a22244fc",
   "metadata": {},
   "outputs": [],
   "source": []
  }
 ],
 "metadata": {
  "kernelspec": {
   "display_name": "Python 3 (ipykernel)",
   "language": "python",
   "name": "python3"
  },
  "language_info": {
   "codemirror_mode": {
    "name": "ipython",
    "version": 3
   },
   "file_extension": ".py",
   "mimetype": "text/x-python",
   "name": "python",
   "nbconvert_exporter": "python",
   "pygments_lexer": "ipython3",
   "version": "3.11.4"
  }
 },
 "nbformat": 4,
 "nbformat_minor": 5
}
